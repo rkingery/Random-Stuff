{
 "cells": [
  {
   "cell_type": "code",
   "execution_count": null,
   "metadata": {
    "collapsed": true
   },
   "outputs": [],
   "source": [
    "import numpy as np\n",
    "import keras\n",
    "from keras import regularizers\n",
    "from keras.models import Sequential\n",
    "from keras.layers import Dense, Dropout, Activation, Flatten\n",
    "from keras.layers import Conv2D, MaxPooling2D\n",
    "import matplotlib.pyplot as plt"
   ]
  },
  {
   "cell_type": "code",
   "execution_count": null,
   "metadata": {
    "collapsed": true
   },
   "outputs": [],
   "source": [
    "'''\n",
    "Importing: Importing data as numpy arrays.\n",
    "'''\n",
    "DATA_DIR = '/home/ryan/Desktop/data/stl10_binary/'         # set to directory where \"data\" file downloads to\n",
    "\n",
    "X_train = np.fromfile(DATA_DIR+'train_X.bin', np.uint8)\n",
    "y_train = np.fromfile(DATA_DIR+'train_y.bin', np.uint8)\n",
    "X_test = np.fromfile(DATA_DIR+'test_X.bin', np.uint8)\n",
    "y_test = np.fromfile(DATA_DIR+'test_y.bin', np.uint8)"
   ]
  },
  {
   "cell_type": "code",
   "execution_count": null,
   "metadata": {
    "collapsed": true
   },
   "outputs": [],
   "source": [
    "'''\n",
    "Data Processing: \n",
    "    Reshape X-arrays to suit the modeling done below. \n",
    "    Feature normalization is performed by dividing by X-arrays by 255.\n",
    "    Labels y are shifted to 0-9 and one-hot encoded as categorical variables.\n",
    "'''\n",
    "X_train = X_train.reshape((5000,3,96,96)).transpose(0,2,3,1).astype('float32')\n",
    "X_train /= 255\n",
    "y_train = y_train.reshape((5000,1))\n",
    "y_train -= 1\n",
    "y_train = keras.utils.to_categorical(y_train, num_classes=10)\n",
    "X_test = X_test.reshape((8000,3,96,96)).transpose(0,2,3,1).astype('float32')\n",
    "X_test /= 255\n",
    "y_test = y_test.reshape((8000,1))\n",
    "y_test -= 1\n",
    "y_test = keras.utils.to_categorical(y_test, num_classes=10)"
   ]
  },
  {
   "cell_type": "code",
   "execution_count": null,
   "metadata": {
    "collapsed": true
   },
   "outputs": [],
   "source": [
    "'''\n",
    "Visualization: Checking that images still look sensible.\n",
    "'''\n",
    "fig, axes1 = plt.subplots(5,5,figsize=(3,3))\n",
    "for j in range(5):\n",
    "    for k in range(5):\n",
    "        i = np.random.choice(range(len(X_train)))\n",
    "        axes1[j,k].set_axis_off()\n",
    "        axes1[j,k].imshow(X_train[i:i+1][0])"
   ]
  },
  {
   "cell_type": "code",
   "execution_count": null,
   "metadata": {
    "collapsed": true
   },
   "outputs": [],
   "source": [
    "'''\n",
    "Modeling: Using 2D Convolutional Neural Network since working with images\n",
    "'''\n",
    "model = Sequential()\n",
    "model.add(Conv2D(32, (3, 3), padding='same',\n",
    "                 input_shape=X_train.shape[1:],\n",
    "                 kernel_regularizer=regularizers.l2(0.01)))\n",
    "model.add(Activation('relu'))\n",
    "model.add(Conv2D(32, (3, 3),kernel_regularizer=regularizers.l2(0.01)))\n",
    "model.add(Activation('relu'))\n",
    "model.add(MaxPooling2D(pool_size=(2, 2)))\n",
    "model.add(Dropout(0.25))\n",
    "\n",
    "model.add(Conv2D(64, (3, 3), padding='same',\n",
    "                 kernel_regularizer=regularizers.l2(0.01)))\n",
    "model.add(Activation('relu'))\n",
    "model.add(Conv2D(64, (3, 3),kernel_regularizer=regularizers.l2(0.01)))\n",
    "model.add(Activation('relu'))\n",
    "model.add(MaxPooling2D(pool_size=(2, 2)))\n",
    "model.add(Dropout(0.25))\n",
    "\n",
    "model.add(Flatten())\n",
    "model.add(Dense(512,kernel_regularizer=regularizers.l2(0.01)))\n",
    "model.add(Activation('relu'))\n",
    "model.add(Dropout(0.5))\n",
    "model.add(Dense(10,kernel_regularizer=regularizers.l2(0.01)))\n",
    "model.add(Activation('softmax'))\n",
    "\n",
    "opt = keras.optimizers.rmsprop(lr=0.0001, decay=1e-6)\n",
    "\n",
    "model.compile(loss='categorical_crossentropy',\n",
    "              optimizer=opt,\n",
    "              metrics=['accuracy'])"
   ]
  },
  {
   "cell_type": "code",
   "execution_count": null,
   "metadata": {
    "collapsed": true
   },
   "outputs": [],
   "source": [
    "'''\n",
    "Training: On training this convnet over 100 epochs I get the following metrics:\n",
    "          Training Accuracy: 80.2%\n",
    "          Test Accuracy: 58.5%\n",
    "Note that STL-10 has achieved test accuracy as high as 72% using more \n",
    "specialized models, but mine isn't bad for a fairly quick first pass.\n",
    "It's certainly much better than the random 10% expected accuracy.\n",
    "'''\n",
    "model.fit(X_train, y_train, batch_size=32, epochs=100,\\\n",
    "          validation_data=(X_test,y_test), shuffle=True, verbose=2)\n",
    "score = model.evaluate(X_test, y_test, batch_size=32)"
   ]
  },
  {
   "cell_type": "code",
   "execution_count": null,
   "metadata": {
    "collapsed": true
   },
   "outputs": [],
   "source": []
  }
 ],
 "metadata": {
  "kernelspec": {
   "display_name": "Python 3",
   "language": "python",
   "name": "python3"
  },
  "language_info": {
   "codemirror_mode": {
    "name": "ipython",
    "version": 3
   },
   "file_extension": ".py",
   "mimetype": "text/x-python",
   "name": "python",
   "nbconvert_exporter": "python",
   "pygments_lexer": "ipython3",
   "version": "3.6.2"
  }
 },
 "nbformat": 4,
 "nbformat_minor": 2
}
